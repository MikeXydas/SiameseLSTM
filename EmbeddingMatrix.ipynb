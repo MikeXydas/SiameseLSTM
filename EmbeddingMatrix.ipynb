{
 "cells": [
  {
   "cell_type": "markdown",
   "metadata": {},
   "source": [
    "## Reading the preprocessed files"
   ]
  },
  {
   "cell_type": "code",
   "execution_count": 2,
   "metadata": {
    "id": "ng4TRl1pP4rV"
   },
   "outputs": [],
   "source": [
    "import pandas as pd\n",
    "\n",
    "clean_train_df = pd.read_csv('../storage/datasets/q2b/preprocessed/train_quora_clean.csv')\n",
    "clean_test_df = pd.read_csv('../storage/datasets/q2b/preprocessed/test_quora_clean.csv')"
   ]
  },
  {
   "cell_type": "markdown",
   "metadata": {},
   "source": [
    "## Creating the embedding matrix"
   ]
  },
  {
   "cell_type": "code",
   "execution_count": 3,
   "metadata": {
    "colab": {
     "base_uri": "https://localhost:8080/"
    },
    "id": "ZV0gbe27F100",
    "outputId": "a513224b-bd52-4d0d-adb1-c31bba8aa165"
   },
   "outputs": [
    {
     "name": "stderr",
     "output_type": "stream",
     "text": [
      "[nltk_data] Downloading package stopwords to\n",
      "[nltk_data]     C:\\Users\\mikev\\AppData\\Roaming\\nltk_data...\n",
      "[nltk_data]   Package stopwords is already up-to-date!\n"
     ]
    }
   ],
   "source": [
    "def form_embedding_matrix(clean_train_df,clean_test_df,columns):\n",
    "    import gensim.downloader\n",
    "    import numpy as np\n",
    "    import pandas as pd\n",
    "    import nltk\n",
    "    nltk.download('stopwords')\n",
    "\n",
    "    quora_w2v = gensim.downloader.load('word2vec-google-news-300')\n",
    "    google_news_emb_dim = 300\n",
    "\n",
    "    vocabulary = dict()\n",
    "    inverse_vocabulary = ['<unk>']\n",
    "    stop_words = set(stopwords.words('english'))\n",
    "\n",
    "    def text_to_vec(df, w2v, vocabulary, inverse_vocabulary):\n",
    "        numb_represantations = []\n",
    "        for index, row in df.iterrows():\n",
    "            questions = []\n",
    "            for question in columns:\n",
    "                q2n = []\n",
    "                for word in row.loc[question].split():\n",
    "                    # Stopwords have not yet been removed since they might be included in the pretrained word2vec\n",
    "                    if word in stop_words and word not in w2v.vocab:\n",
    "                        continue\n",
    "                        \n",
    "                    if word not in vocabulary:\n",
    "                        vocabulary[word] = len(inverse_vocabulary)\n",
    "                        q2n.append(len(inverse_vocabulary))\n",
    "                        inverse_vocabulary.append(word)\n",
    "                    else:\n",
    "                        q2n.append(vocabulary[word])\n",
    "                questions.append(q2n)\n",
    "            numb_represantations.append(questions)\n",
    "        \n",
    "        return numb_represantations, vocabulary, inverse_vocabulary\n",
    "\n",
    "    numb_represantation_train, vocabulary, inverse_vocabulary = text_to_vec(clean_train_df, quora_w2v, vocabulary, inverse_vocabulary)\n",
    "    numb_represantation_test, vocabulary, inverse_vocabulary = text_to_vec(clean_test_df, quora_w2v, vocabulary, inverse_vocabulary)\n",
    "\n",
    "    embedding_dim = 300\n",
    "    embeddings = 1 * np.random.randn(len(vocabulary) + 1, embedding_dim)\n",
    "    embeddings[0] = 0\n",
    "\n",
    "    # Build the embedding matrix\n",
    "    for word, index in vocabulary.items():\n",
    "        if word in quora_w2v.vocab:\n",
    "            embeddings[index] = quora_w2v.word_vec(word)\n",
    "\n",
    "    return embeddings, numb_represantation_train, numb_represantation_test\n",
    "\n",
    "embeddings, numb_represantation_train, numb_represantation_test = form_embedding_matrix(clean_train_df,clean_test_df,['Q1','Q2'])"
   ]
  },
  {
   "cell_type": "markdown",
   "metadata": {},
   "source": [
    "### Storing the embedding matrix and number represantations"
   ]
  },
  {
   "cell_type": "code",
   "execution_count": 5,
   "metadata": {},
   "outputs": [],
   "source": [
    "# Save the embeddings to disk\n",
    "np.save('../storage/datasets/q2b/word_embeddings/embeddings_matrix.npy', embeddings)\n",
    "\n",
    "# Save the represantations\n",
    "with open('../storage/datasets/q2b/word_embeddings/numb_represantation_train.pkl', 'wb') as fp:\n",
    "    pickle.dump(numb_represantation_train, fp)\n",
    "with open('../storage/datasets/q2b/word_embeddings/numb_represantation_test.pkl', 'wb') as fp:\n",
    "    pickle.dump(numb_represantation_test, fp)"
   ]
  }
 ],
 "metadata": {
  "accelerator": "GPU",
  "colab": {
   "name": "LSTMs.ipynb",
   "provenance": []
  },
  "kernelspec": {
   "display_name": "Python [conda env:py36_tf2]",
   "language": "python",
   "name": "conda-env-py36_tf2-py"
  },
  "language_info": {
   "codemirror_mode": {
    "name": "ipython",
    "version": 3
   },
   "file_extension": ".py",
   "mimetype": "text/x-python",
   "name": "python",
   "nbconvert_exporter": "python",
   "pygments_lexer": "ipython3",
   "version": "3.6.12"
  }
 },
 "nbformat": 4,
 "nbformat_minor": 4
}
